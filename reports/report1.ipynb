{
 "cells": [
  {
   "cell_type": "code",
   "execution_count": 18,
   "id": "47c7ec39",
   "metadata": {},
   "outputs": [],
   "source": [
    "import mlflow\n",
    "import pandas as pd\n",
    "import seaborn as sns\n",
    "import matplotlib.pyplot as plt"
   ]
  },
  {
   "cell_type": "code",
   "execution_count": 19,
   "id": "d0247c80",
   "metadata": {},
   "outputs": [],
   "source": [
    "\n",
    "mlflow.set_tracking_uri(rf\"file:///C:\\Users\\jc.ruedah\\Desktop\\VRI_carpeta\\VRI_PROYECTO\\mlruns\") \n"
   ]
  },
  {
   "cell_type": "code",
   "execution_count": 20,
   "id": "0d5d7692",
   "metadata": {},
   "outputs": [
    {
     "name": "stdout",
     "output_type": "stream",
     "text": [
      "ID del experimento: 715053864426699666\n"
     ]
    }
   ],
   "source": [
    "# Cargar el experimento por nombre o ID\n",
    "experiment = mlflow.get_experiment_by_name(\"AE_only_gpt_exp1\")\n",
    "print(\"ID del experimento:\", experiment.experiment_id)"
   ]
  },
  {
   "cell_type": "code",
   "execution_count": 21,
   "id": "1fa6f57d",
   "metadata": {},
   "outputs": [],
   "source": [
    "runs_df = mlflow.search_runs(experiment_ids=[experiment.experiment_id])"
   ]
  },
  {
   "cell_type": "code",
   "execution_count": 22,
   "id": "eb11296a",
   "metadata": {},
   "outputs": [],
   "source": [
    "runs_df = runs_df[runs_df['status'] == 'FINISHED']"
   ]
  },
  {
   "cell_type": "code",
   "execution_count": 23,
   "id": "a4cd2ed0",
   "metadata": {},
   "outputs": [
    {
     "data": {
      "text/html": [
       "<div>\n",
       "<style scoped>\n",
       "    .dataframe tbody tr th:only-of-type {\n",
       "        vertical-align: middle;\n",
       "    }\n",
       "\n",
       "    .dataframe tbody tr th {\n",
       "        vertical-align: top;\n",
       "    }\n",
       "\n",
       "    .dataframe thead th {\n",
       "        text-align: right;\n",
       "    }\n",
       "</style>\n",
       "<table border=\"1\" class=\"dataframe\">\n",
       "  <thead>\n",
       "    <tr style=\"text-align: right;\">\n",
       "      <th></th>\n",
       "      <th>params.column</th>\n",
       "      <th>params.reducer</th>\n",
       "      <th>params.model</th>\n",
       "      <th>params.n_dim</th>\n",
       "      <th>metrics.f1_score</th>\n",
       "      <th>metrics.accuracy</th>\n",
       "    </tr>\n",
       "  </thead>\n",
       "  <tbody>\n",
       "    <tr>\n",
       "      <th>0</th>\n",
       "      <td>Embedding_Concat2</td>\n",
       "      <td>ae</td>\n",
       "      <td>xgb</td>\n",
       "      <td>768</td>\n",
       "      <td>1.000000</td>\n",
       "      <td>1.0000</td>\n",
       "    </tr>\n",
       "    <tr>\n",
       "      <th>1</th>\n",
       "      <td>Embedding_Concat1</td>\n",
       "      <td>ae</td>\n",
       "      <td>xgb</td>\n",
       "      <td>768</td>\n",
       "      <td>1.000000</td>\n",
       "      <td>1.0000</td>\n",
       "    </tr>\n",
       "    <tr>\n",
       "      <th>2</th>\n",
       "      <td>Embedding_Respuesta</td>\n",
       "      <td>ae</td>\n",
       "      <td>xgb</td>\n",
       "      <td>768</td>\n",
       "      <td>1.000000</td>\n",
       "      <td>1.0000</td>\n",
       "    </tr>\n",
       "    <tr>\n",
       "      <th>3</th>\n",
       "      <td>Embedding_Concat2</td>\n",
       "      <td>ae</td>\n",
       "      <td>xgb</td>\n",
       "      <td>512</td>\n",
       "      <td>1.000000</td>\n",
       "      <td>1.0000</td>\n",
       "    </tr>\n",
       "    <tr>\n",
       "      <th>4</th>\n",
       "      <td>Embedding_Concat1</td>\n",
       "      <td>ae</td>\n",
       "      <td>xgb</td>\n",
       "      <td>512</td>\n",
       "      <td>1.000000</td>\n",
       "      <td>1.0000</td>\n",
       "    </tr>\n",
       "    <tr>\n",
       "      <th>...</th>\n",
       "      <td>...</td>\n",
       "      <td>...</td>\n",
       "      <td>...</td>\n",
       "      <td>...</td>\n",
       "      <td>...</td>\n",
       "      <td>...</td>\n",
       "    </tr>\n",
       "    <tr>\n",
       "      <th>595</th>\n",
       "      <td>Embedding_Concat1</td>\n",
       "      <td>ae</td>\n",
       "      <td>mlp</td>\n",
       "      <td>4</td>\n",
       "      <td>0.250975</td>\n",
       "      <td>0.4225</td>\n",
       "    </tr>\n",
       "    <tr>\n",
       "      <th>596</th>\n",
       "      <td>Embedding_Respuesta</td>\n",
       "      <td>ae</td>\n",
       "      <td>mlp</td>\n",
       "      <td>4</td>\n",
       "      <td>0.250975</td>\n",
       "      <td>0.4225</td>\n",
       "    </tr>\n",
       "    <tr>\n",
       "      <th>597</th>\n",
       "      <td>Embedding_Concat2</td>\n",
       "      <td>ae</td>\n",
       "      <td>mlp</td>\n",
       "      <td>2</td>\n",
       "      <td>0.250975</td>\n",
       "      <td>0.4225</td>\n",
       "    </tr>\n",
       "    <tr>\n",
       "      <th>598</th>\n",
       "      <td>Embedding_Concat1</td>\n",
       "      <td>ae</td>\n",
       "      <td>mlp</td>\n",
       "      <td>2</td>\n",
       "      <td>0.250975</td>\n",
       "      <td>0.4225</td>\n",
       "    </tr>\n",
       "    <tr>\n",
       "      <th>599</th>\n",
       "      <td>Embedding_Respuesta</td>\n",
       "      <td>ae</td>\n",
       "      <td>mlp</td>\n",
       "      <td>2</td>\n",
       "      <td>0.250975</td>\n",
       "      <td>0.4225</td>\n",
       "    </tr>\n",
       "  </tbody>\n",
       "</table>\n",
       "<p>600 rows × 6 columns</p>\n",
       "</div>"
      ],
      "text/plain": [
       "           params.column params.reducer params.model params.n_dim  \\\n",
       "0      Embedding_Concat2             ae          xgb          768   \n",
       "1      Embedding_Concat1             ae          xgb          768   \n",
       "2    Embedding_Respuesta             ae          xgb          768   \n",
       "3      Embedding_Concat2             ae          xgb          512   \n",
       "4      Embedding_Concat1             ae          xgb          512   \n",
       "..                   ...            ...          ...          ...   \n",
       "595    Embedding_Concat1             ae          mlp            4   \n",
       "596  Embedding_Respuesta             ae          mlp            4   \n",
       "597    Embedding_Concat2             ae          mlp            2   \n",
       "598    Embedding_Concat1             ae          mlp            2   \n",
       "599  Embedding_Respuesta             ae          mlp            2   \n",
       "\n",
       "     metrics.f1_score  metrics.accuracy  \n",
       "0            1.000000            1.0000  \n",
       "1            1.000000            1.0000  \n",
       "2            1.000000            1.0000  \n",
       "3            1.000000            1.0000  \n",
       "4            1.000000            1.0000  \n",
       "..                ...               ...  \n",
       "595          0.250975            0.4225  \n",
       "596          0.250975            0.4225  \n",
       "597          0.250975            0.4225  \n",
       "598          0.250975            0.4225  \n",
       "599          0.250975            0.4225  \n",
       "\n",
       "[600 rows x 6 columns]"
      ]
     },
     "execution_count": 23,
     "metadata": {},
     "output_type": "execute_result"
    }
   ],
   "source": [
    "df_selected = runs_df[['params.column', 'params.reducer', 'params.model','params.n_dim' ,'metrics.f1_score', 'metrics.accuracy']]\n",
    "df_selected"
   ]
  },
  {
   "cell_type": "code",
   "execution_count": 25,
   "id": "91bcfd2f",
   "metadata": {},
   "outputs": [
    {
     "name": "stderr",
     "output_type": "stream",
     "text": [
      "C:\\Users\\jc.ruedah\\AppData\\Local\\Temp\\ipykernel_49860\\3336963693.py:1: SettingWithCopyWarning: \n",
      "A value is trying to be set on a copy of a slice from a DataFrame.\n",
      "Try using .loc[row_indexer,col_indexer] = value instead\n",
      "\n",
      "See the caveats in the documentation: https://pandas.pydata.org/pandas-docs/stable/user_guide/indexing.html#returning-a-view-versus-a-copy\n",
      "  df_selected['params.n_dim'] = df_selected['params.n_dim'].astype(int)\n"
     ]
    }
   ],
   "source": [
    "df_selected['params.n_dim'] = df_selected['params.n_dim'].astype(int)"
   ]
  },
  {
   "cell_type": "code",
   "execution_count": 29,
   "id": "f193b81e",
   "metadata": {},
   "outputs": [],
   "source": [
    "sns.set_style('whitegrid')"
   ]
  },
  {
   "cell_type": "code",
   "execution_count": 31,
   "id": "9ad19367",
   "metadata": {},
   "outputs": [
    {
     "data": {
      "image/png": "[encoded data removed]",
      "text/plain": [
       "<Figure size 1575.38x500 with 3 Axes>"
      ]
     },
     "metadata": {},
     "output_type": "display_data"
    }
   ],
   "source": [
    "g = sns.FacetGrid(df_selected,\n",
    "                   col='params.column', \n",
    "                   row='params.reducer', \n",
    "                   palette = 'tab20',\n",
    "                   height=5, \n",
    "                   sharex=False)\n",
    "g.map_dataframe(sns.boxplot, \n",
    "      x = 'params.n_dim', \n",
    "      y = 'metrics.f1_score',\n",
    "      hue='params.model',\n",
    "      width=0.5,\n",
    "      palette = 'tab20'\n",
    "      )\n",
    "g.set(ylim=(0,1))\n",
    "g.add_legend() \n",
    "plt.show()"
   ]
  }
 ],
 "metadata": {
  "kernelspec": {
   "display_name": ".venv",
   "language": "python",
   "name": "python3"
  },
  "language_info": {
   "codemirror_mode": {
    "name": "ipython",
    "version": 3
   },
   "file_extension": ".py",
   "mimetype": "text/x-python",
   "name": "python",
   "nbconvert_exporter": "python",
   "pygments_lexer": "ipython3",
   "version": "3.12.2"
  }
 },
 "nbformat": 4,
 "nbformat_minor": 5
}
